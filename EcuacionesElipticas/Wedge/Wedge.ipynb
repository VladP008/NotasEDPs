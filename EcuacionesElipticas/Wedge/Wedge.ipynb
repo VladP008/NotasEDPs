{
 "cells": [
  {
   "cell_type": "markdown",
   "id": "40f72808-ec47-4100-9ef6-d9561e5d3388",
   "metadata": {},
   "source": [
    "### El Laplaciano en una cuña"
   ]
  },
  {
   "cell_type": "markdown",
   "id": "25e3c525-e7f6-4094-b6bb-8a2d2e83c362",
   "metadata": {},
   "source": [
    "Se tiene el siguiente problema con condiciones de frontera tipo Dirichlet:\n",
    "\\begin{equation}\n",
    "   \\left\\{\n",
    "      \\begin{aligned}\n",
    "        u_{rr} + \\frac{1}{r}u_r + \\frac{1}{r^2}u_{\\theta\\theta}= 0 &&0<r<a, \\quad 0<\\theta<\\beta, \\\\\n",
    "        u(r,0) =u(r,\\beta)=0 && 0<r<a,\\\\\n",
    "        \\frac{\\partial u}{\\partial r}(a,\\theta) = h(\\theta) && 0<\\theta<\\beta,\\\\\n",
    "      \\end{aligned}\n",
    "    \\right.\n",
    "\\end{equation}\n",
    "\n",
    "\n"
   ]
  },
  {
   "cell_type": "markdown",
   "id": "139370a5-53d1-4b06-81d8-103a021612d7",
   "metadata": {},
   "source": [
    "La solución de este problema está dada por \n",
    "\\begin{equation*}\n",
    "    \\boxed{u(r, \\theta)=\\sum_{n=1}^{\\infty}A_n r^{\\frac{n\\pi}{\\beta}}\\sin(\\frac{n\\pi\\theta}{\\beta})}\n",
    "\\end{equation*}\n",
    "Donde \n",
    "\\begin{equation*}\n",
    "    A_n = a^{1-\\frac{n\\pi}{\\beta}}\\frac{2}{n\\pi}\\int_0^\\beta h(\\theta)\\sin(\\frac{n\\pi\\theta}{\\beta})d\\theta\n",
    "\\end{equation*}"
   ]
  },
  {
   "cell_type": "code",
   "execution_count": 72,
   "id": "5ab6624b-19a0-4510-b60d-5d0aad525b36",
   "metadata": {
    "scrolled": true
   },
   "outputs": [],
   "source": [
    "# Se utilizan las siguientes bibliotecas:\n",
    "import matplotlib.pyplot as plt    # Para las gráficas\n",
    "import numpy as np                 # Para el uso de arrays\n",
    "from IPython.display import HTML            # Para poder visualizar la animación en el notebook\n",
    "\n",
    "# La siguiente instrucción se utiliza para habilitar el modo interactivo en el notebook\n",
    "%matplotlib inline\n",
    "\n",
    "# Parámetros del problema\n",
    "a = 1   # Radio a\n",
    "beta = np.pi/4    # ángulo beta\n",
    "N = 2000                      # Número de puntos para la discretización del dominio espacial\n",
    "theta = np.linspace(0,beta, N + 1)   # Puntos en el intervalo [0,beta] en grados\n",
    "r = np.linspace(0,a,N + 1 )   # Puntos en el intervalo [0,a]\n",
    "R,Theta = np.meshgrid(r,theta)\n",
    "U_pol = np.zeros((N+1,N+1))  # Matriz que guardará la solución para cada (theta,r)\n",
    "\n",
    "\n",
    "def coeff(n):\n",
    "    # Caso 50*sin(\\frac{n\\pi\\theta}{\\beta})\n",
    "    if n == 1:\n",
    "        coeff = 1000*a**(1-(np.pi/beta))*(beta/np.pi)\n",
    "    else:\n",
    "        coeff = 0\n",
    "\n",
    "    # Caso h = -theta^2 + beta*theta\n",
    "    #coeff = (beta**2)/(n*np.pi)*(-1)**(n+1)  + (beta**3)/(n*np.pi)*(-1)**(n) + ((beta/n*np.pi)**3)(1-(-1)**n)\n",
    "    return coeff\n",
    "\n",
    "def sol():\n",
    "    sol = np.zeros((N+1,N+1))\n",
    "    for m in range(1,5):\n",
    "        sol = coeff(m)*(R**(m*np.pi/beta))*np.sin((m*np.pi/beta)*Theta) + sol\n",
    "    return sol\n",
    "\n",
    "U_pol = sol()  # solución en coordenadas polares\n",
    "\n",
    "\n",
    "# Se crean las fiiguras y se fijan los parametros \n",
    "# Graficar en coordenadas polares\n",
    "plt.figure()\n",
    "ax = plt.subplot(111, projection='polar')  # Crear el gráfico polar\n",
    "\n",
    "mapa_calor = ax.pcolormesh(Theta, R, U_pol, cmap='plasma', shading='auto')\n",
    "\n",
    "# Añadir una barra de color\n",
    "calor_bar = plt.colorbar(mapa_calor)\n",
    "calor_bar.set_label('Temperatura')\n",
    "\n",
    "# Ajustes de los ejes, etiquetas y título\n",
    "ax.set_title('El Laplaciano en una cuña')\n",
    "ax.grid(color='grey', linestyle='-', linewidth=0.1)\n",
    "# Establecer los límites de theta (solo entre 0 y pi/2)\n",
    "ax.set_xlim(0, beta)  # Limitar el ángulo a 0 a pi/2\n",
    "\n",
    "# Títulos y etiquetas\n",
    "ax.set_title(\"Problema Elíptico en una cuña\")\n",
    "ax.set_xticks([0, beta])  # angulos\n",
    "ax.set_xticklabels([r'0', r'$\\beta$'])  \n",
    "ax.set_yticks([0, a])  # radios\n",
    "ax.set_yticklabels([r'0', r'a'])  \n",
    "\n",
    "#plt.show() # Mostrar gráfico\n",
    "plt.savefig(\"Cuña.png\")\n",
    "\n"
   ]
  },
  {
   "cell_type": "code",
   "execution_count": 15,
   "id": "93f8ce42-ac60-49c5-b23b-e3aad4a97442",
   "metadata": {},
   "outputs": [
    {
     "data": {
      "text/plain": [
       "array([0.00000000e+00, 1.57079633e-03, 3.14159265e-03, ...,\n",
       "       1.56765473e+00, 1.56922553e+00, 1.57079633e+00])"
      ]
     },
     "execution_count": 15,
     "metadata": {},
     "output_type": "execute_result"
    }
   ],
   "source": [
    "theta"
   ]
  },
  {
   "cell_type": "code",
   "execution_count": null,
   "id": "78eb72bf-ca42-4636-8796-b814f96fed98",
   "metadata": {},
   "outputs": [],
   "source": []
  }
 ],
 "metadata": {
  "kernelspec": {
   "display_name": "Python 3 (ipykernel)",
   "language": "python",
   "name": "python3"
  },
  "language_info": {
   "codemirror_mode": {
    "name": "ipython",
    "version": 3
   },
   "file_extension": ".py",
   "mimetype": "text/x-python",
   "name": "python",
   "nbconvert_exporter": "python",
   "pygments_lexer": "ipython3",
   "version": "3.12.4"
  }
 },
 "nbformat": 4,
 "nbformat_minor": 5
}
