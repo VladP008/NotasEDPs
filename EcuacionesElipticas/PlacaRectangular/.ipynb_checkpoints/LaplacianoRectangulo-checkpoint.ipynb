{
 "cells": [
  {
   "cell_type": "code",
   "execution_count": 19,
   "id": "5ab6624b-19a0-4510-b60d-5d0aad525b36",
   "metadata": {
    "scrolled": true
   },
   "outputs": [],
   "source": [
    "# Se utilizan las siguientes bibliotecas:\n",
    "import matplotlib.pyplot as plt    # Para las gráficas\n",
    "import numpy as np                 # Para el uso de arrays\n",
    "from IPython.display import HTML            # Para poder visualizar la animación en el notebook\n",
    "\n",
    "# La siguiente instrucción se utiliza para habilitar el modo interactivo en el notebook\n",
    "%matplotlib inline\n",
    "\n",
    "# Parámetros del problema\n",
    "N = 2000                      # Número de puntos para la discretización del dominio espacial\n",
    "x = np.linspace(0,np.pi, N + 1)   # Puntos en el intervalo [0,π]\n",
    "y = np.linspace(0,1,N + 1 )   # Puntos en el intervalo [0,1]\n",
    "X,Y = np.meshgrid(x,y)\n",
    "U = np.zeros((N+1,N+1))  # Matriz que guardará la solución para cada (x,y)\n",
    "\n",
    "\n",
    "def coeff_f0(n):\n",
    "    if n == 1:\n",
    "        coeff = 100\n",
    "    else:\n",
    "        coeff = 0\n",
    "    return coeff\n",
    "\n",
    "def coeff_f1(n):\n",
    "    coeff = 100*(2/(n*np.pi))*(np.cos(n*np.pi/2)+(-1)**(n+1))\n",
    "    return coeff\n",
    "\n",
    "def sol():\n",
    "    sol = np.zeros((N+1,N+1))\n",
    "    for m in range(1,3):\n",
    "        sol = ((np.sinh(1-Y)/np.sinh(m))*coeff_f0(m) + (np.sinh(m*Y)/np.sinh(m))*coeff_f1(m))*np.sin(m*X) + sol\n",
    "    return sol\n",
    "\n",
    "U = sol()\n",
    "\n",
    "# Se crea la figura y se fijan parámetros\n",
    "fig,ax= plt.subplots()\n",
    "mapa_calor = ax.imshow(U, aspect='auto', cmap='plasma',origin='lower', extent=[0, np.pi,0, 1],vmax=100, vmin=0)\n",
    "\n",
    "# Añadir una barra de color\n",
    "calor_bar = plt.colorbar(mapa_calor)\n",
    "calor_bar.set_label('Temperatura')\n",
    "\n",
    "# Ajustes de los ejes, etiquetas y título\n",
    "ax.set_title('Problema 1. Placa rectangular')\n",
    "ax.grid(color='grey', linestyle='-', linewidth=0.1)\n",
    "ax.set_ylim([-0.05, 1.05])      # Se fijan los límites del eje y\n",
    "ax.set_xlim([-0.05, np.pi+0.05]) # Se fijan los límites del eje x\n",
    "ax.set_xlabel('x')\n",
    "ax.set_xlabel('y')\n",
    "#plt.show()  #Muestra la figura\n",
    "plt.savefig(\"Problema1.PlacaRectangular.3.png\")\n",
    "\n",
    "\n"
   ]
  },
  {
   "cell_type": "code",
   "execution_count": 8,
   "id": "643499b2-3c88-4aec-af91-2056c13cd533",
   "metadata": {},
   "outputs": [
    {
     "data": {
      "text/plain": [
       "123.68306498056522"
      ]
     },
     "execution_count": 8,
     "metadata": {},
     "output_type": "execute_result"
    }
   ],
   "source": [
    "U.max()"
   ]
  },
  {
   "cell_type": "code",
   "execution_count": null,
   "id": "dcc69761-ed81-4f5c-875e-1ba92b4f28e1",
   "metadata": {},
   "outputs": [],
   "source": []
  }
 ],
 "metadata": {
  "kernelspec": {
   "display_name": "Python 3 (ipykernel)",
   "language": "python",
   "name": "python3"
  },
  "language_info": {
   "codemirror_mode": {
    "name": "ipython",
    "version": 3
   },
   "file_extension": ".py",
   "mimetype": "text/x-python",
   "name": "python",
   "nbconvert_exporter": "python",
   "pygments_lexer": "ipython3",
   "version": "3.12.4"
  }
 },
 "nbformat": 4,
 "nbformat_minor": 5
}
